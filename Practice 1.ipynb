{
 "cells": [
  {
   "cell_type": "code",
   "execution_count": 1,
   "id": "cb04f670",
   "metadata": {
    "scrolled": false
   },
   "outputs": [
    {
     "data": {
      "text/html": [
       "<div>\n",
       "<style scoped>\n",
       "    .dataframe tbody tr th:only-of-type {\n",
       "        vertical-align: middle;\n",
       "    }\n",
       "\n",
       "    .dataframe tbody tr th {\n",
       "        vertical-align: top;\n",
       "    }\n",
       "\n",
       "    .dataframe thead th {\n",
       "        text-align: right;\n",
       "    }\n",
       "</style>\n",
       "<table border=\"1\" class=\"dataframe\">\n",
       "  <thead>\n",
       "    <tr style=\"text-align: right;\">\n",
       "      <th></th>\n",
       "      <th>text</th>\n",
       "      <th>label</th>\n",
       "      <th>label_text</th>\n",
       "    </tr>\n",
       "  </thead>\n",
       "  <tbody>\n",
       "    <tr>\n",
       "      <th>0</th>\n",
       "      <td>a stirring , funny and finally transporting re...</td>\n",
       "      <td>1</td>\n",
       "      <td>positive</td>\n",
       "    </tr>\n",
       "    <tr>\n",
       "      <th>1</th>\n",
       "      <td>apparently reassembled from the cutting-room f...</td>\n",
       "      <td>0</td>\n",
       "      <td>negative</td>\n",
       "    </tr>\n",
       "    <tr>\n",
       "      <th>2</th>\n",
       "      <td>they presume their audience wo n't sit still f...</td>\n",
       "      <td>0</td>\n",
       "      <td>negative</td>\n",
       "    </tr>\n",
       "    <tr>\n",
       "      <th>3</th>\n",
       "      <td>this is a visually stunning rumination on love...</td>\n",
       "      <td>1</td>\n",
       "      <td>positive</td>\n",
       "    </tr>\n",
       "    <tr>\n",
       "      <th>4</th>\n",
       "      <td>jonathan parker 's bartleby should have been t...</td>\n",
       "      <td>1</td>\n",
       "      <td>positive</td>\n",
       "    </tr>\n",
       "    <tr>\n",
       "      <th>...</th>\n",
       "      <td>...</td>\n",
       "      <td>...</td>\n",
       "      <td>...</td>\n",
       "    </tr>\n",
       "    <tr>\n",
       "      <th>6915</th>\n",
       "      <td>painful , horrifying and oppressively tragic ,...</td>\n",
       "      <td>1</td>\n",
       "      <td>positive</td>\n",
       "    </tr>\n",
       "    <tr>\n",
       "      <th>6916</th>\n",
       "      <td>take care is nicely performed by a quintet of ...</td>\n",
       "      <td>0</td>\n",
       "      <td>negative</td>\n",
       "    </tr>\n",
       "    <tr>\n",
       "      <th>6917</th>\n",
       "      <td>the script covers huge , heavy topics in a bla...</td>\n",
       "      <td>0</td>\n",
       "      <td>negative</td>\n",
       "    </tr>\n",
       "    <tr>\n",
       "      <th>6918</th>\n",
       "      <td>a seriously bad film with seriously warped log...</td>\n",
       "      <td>0</td>\n",
       "      <td>negative</td>\n",
       "    </tr>\n",
       "    <tr>\n",
       "      <th>6919</th>\n",
       "      <td>a deliciously nonsensical comedy about a city ...</td>\n",
       "      <td>1</td>\n",
       "      <td>positive</td>\n",
       "    </tr>\n",
       "  </tbody>\n",
       "</table>\n",
       "<p>6920 rows × 3 columns</p>\n",
       "</div>"
      ],
      "text/plain": [
       "                                                   text  label label_text\n",
       "0     a stirring , funny and finally transporting re...      1   positive\n",
       "1     apparently reassembled from the cutting-room f...      0   negative\n",
       "2     they presume their audience wo n't sit still f...      0   negative\n",
       "3     this is a visually stunning rumination on love...      1   positive\n",
       "4     jonathan parker 's bartleby should have been t...      1   positive\n",
       "...                                                 ...    ...        ...\n",
       "6915  painful , horrifying and oppressively tragic ,...      1   positive\n",
       "6916  take care is nicely performed by a quintet of ...      0   negative\n",
       "6917  the script covers huge , heavy topics in a bla...      0   negative\n",
       "6918  a seriously bad film with seriously warped log...      0   negative\n",
       "6919  a deliciously nonsensical comedy about a city ...      1   positive\n",
       "\n",
       "[6920 rows x 3 columns]"
      ]
     },
     "execution_count": 1,
     "metadata": {},
     "output_type": "execute_result"
    }
   ],
   "source": [
    "import pandas as pd\n",
    "\n",
    "df = pd.read_json('sst2/train.jsonl', lines=True)\n",
    "df"
   ]
  },
  {
   "cell_type": "markdown",
   "id": "0c44a611",
   "metadata": {},
   "source": [
    "# Preprocessing"
   ]
  },
  {
   "cell_type": "code",
   "execution_count": 2,
   "id": "d1bc0111",
   "metadata": {},
   "outputs": [
    {
     "data": {
      "text/html": [
       "<div>\n",
       "<style scoped>\n",
       "    .dataframe tbody tr th:only-of-type {\n",
       "        vertical-align: middle;\n",
       "    }\n",
       "\n",
       "    .dataframe tbody tr th {\n",
       "        vertical-align: top;\n",
       "    }\n",
       "\n",
       "    .dataframe thead th {\n",
       "        text-align: right;\n",
       "    }\n",
       "</style>\n",
       "<table border=\"1\" class=\"dataframe\">\n",
       "  <thead>\n",
       "    <tr style=\"text-align: right;\">\n",
       "      <th></th>\n",
       "      <th>text</th>\n",
       "      <th>label</th>\n",
       "      <th>label_text</th>\n",
       "    </tr>\n",
       "  </thead>\n",
       "  <tbody>\n",
       "    <tr>\n",
       "      <th>0</th>\n",
       "      <td>a stirring funny and finally transporting re i...</td>\n",
       "      <td>1</td>\n",
       "      <td>positive</td>\n",
       "    </tr>\n",
       "    <tr>\n",
       "      <th>1</th>\n",
       "      <td>apparently reassembled from the cutting room f...</td>\n",
       "      <td>0</td>\n",
       "      <td>negative</td>\n",
       "    </tr>\n",
       "    <tr>\n",
       "      <th>2</th>\n",
       "      <td>they presume their audience wo n t sit still f...</td>\n",
       "      <td>0</td>\n",
       "      <td>negative</td>\n",
       "    </tr>\n",
       "    <tr>\n",
       "      <th>3</th>\n",
       "      <td>this is a visually stunning rumination on love...</td>\n",
       "      <td>1</td>\n",
       "      <td>positive</td>\n",
       "    </tr>\n",
       "    <tr>\n",
       "      <th>4</th>\n",
       "      <td>jonathan parker s bartleby should have been th...</td>\n",
       "      <td>1</td>\n",
       "      <td>positive</td>\n",
       "    </tr>\n",
       "    <tr>\n",
       "      <th>...</th>\n",
       "      <td>...</td>\n",
       "      <td>...</td>\n",
       "      <td>...</td>\n",
       "    </tr>\n",
       "    <tr>\n",
       "      <th>6915</th>\n",
       "      <td>painful horrifying and oppressively tragic thi...</td>\n",
       "      <td>1</td>\n",
       "      <td>positive</td>\n",
       "    </tr>\n",
       "    <tr>\n",
       "      <th>6916</th>\n",
       "      <td>take care is nicely performed by a quintet of ...</td>\n",
       "      <td>0</td>\n",
       "      <td>negative</td>\n",
       "    </tr>\n",
       "    <tr>\n",
       "      <th>6917</th>\n",
       "      <td>the script covers huge heavy topics in a bland...</td>\n",
       "      <td>0</td>\n",
       "      <td>negative</td>\n",
       "    </tr>\n",
       "    <tr>\n",
       "      <th>6918</th>\n",
       "      <td>a seriously bad film with seriously warped log...</td>\n",
       "      <td>0</td>\n",
       "      <td>negative</td>\n",
       "    </tr>\n",
       "    <tr>\n",
       "      <th>6919</th>\n",
       "      <td>a deliciously nonsensical comedy about a city ...</td>\n",
       "      <td>1</td>\n",
       "      <td>positive</td>\n",
       "    </tr>\n",
       "  </tbody>\n",
       "</table>\n",
       "<p>6920 rows × 3 columns</p>\n",
       "</div>"
      ],
      "text/plain": [
       "                                                   text  label label_text\n",
       "0     a stirring funny and finally transporting re i...      1   positive\n",
       "1     apparently reassembled from the cutting room f...      0   negative\n",
       "2     they presume their audience wo n t sit still f...      0   negative\n",
       "3     this is a visually stunning rumination on love...      1   positive\n",
       "4     jonathan parker s bartleby should have been th...      1   positive\n",
       "...                                                 ...    ...        ...\n",
       "6915  painful horrifying and oppressively tragic thi...      1   positive\n",
       "6916  take care is nicely performed by a quintet of ...      0   negative\n",
       "6917  the script covers huge heavy topics in a bland...      0   negative\n",
       "6918  a seriously bad film with seriously warped log...      0   negative\n",
       "6919  a deliciously nonsensical comedy about a city ...      1   positive\n",
       "\n",
       "[6920 rows x 3 columns]"
      ]
     },
     "execution_count": 2,
     "metadata": {},
     "output_type": "execute_result"
    }
   ],
   "source": [
    "import re\n",
    "df.loc[:,\"text\"] = df.text.apply(lambda x : \" \".join(re.findall('[\\w]+',x)))\n",
    "df"
   ]
  },
  {
   "cell_type": "code",
   "execution_count": 3,
   "id": "af6437fe",
   "metadata": {
    "scrolled": true
   },
   "outputs": [
    {
     "data": {
      "text/plain": [
       "array(['stirring funny finally transporting re imagining beauty beast 1930s horror films',\n",
       "       'apparently reassembled cutting room floor given daytime soap',\n",
       "       'presume audience wo n t sit still sociology lesson however entertainingly presented trot conventional science fiction elements bug eyed monsters futuristic women skimpy clothes',\n",
       "       ...,\n",
       "       'script covers huge heavy topics bland surfacey way n t offer insight instance good things happen bad people',\n",
       "       'seriously bad film seriously warped logic writer director kurt wimmer screenplay level',\n",
       "       'deliciously nonsensical comedy city coming apart seams'],\n",
       "      dtype=object)"
      ]
     },
     "execution_count": 3,
     "metadata": {},
     "output_type": "execute_result"
    }
   ],
   "source": [
    "from stop_words import get_stop_words\n",
    "stop_words = get_stop_words('en')\n",
    "\n",
    "def remove_stopWords(s):\n",
    "    s = ' '.join(word for word in s.split() if word not in stop_words)\n",
    "    return s\n",
    "\n",
    "df.loc[:,\"text\"] = df.text.apply(lambda x: remove_stopWords(x))\n",
    "df = df['text'].values\n",
    "df"
   ]
  },
  {
   "cell_type": "markdown",
   "id": "76830af9",
   "metadata": {},
   "source": [
    "# Bag of Words"
   ]
  },
  {
   "cell_type": "code",
   "execution_count": 4,
   "id": "643185b2",
   "metadata": {},
   "outputs": [
    {
     "name": "stdout",
     "output_type": "stream",
     "text": [
      "  (0, 8444)\t1\n",
      "  (0, 3591)\t1\n",
      "  (0, 3323)\t1\n",
      "  (0, 9128)\t1\n",
      "  (0, 7100)\t1\n",
      "  (0, 741)\t1\n",
      "  (0, 726)\t1\n",
      "  (0, 4196)\t1\n",
      "  (0, 3313)\t1\n",
      "  (0, 742)\t1\n",
      "  (0, 4198)\t1\n",
      "  (1, 449)\t1\n",
      "  (1, 1948)\t1\n",
      "  (1, 7478)\t1\n",
      "  (1, 3425)\t1\n",
      "  (1, 3706)\t1\n",
      "  (1, 2018)\t1\n",
      "  (1, 8146)\t1\n",
      "  (1, 1949)\t1\n",
      "  (1, 7479)\t1\n",
      "  (1, 2019)\t1\n",
      "  (2, 578)\t1\n",
      "  (2, 9832)\t1\n",
      "  (2, 8033)\t1\n",
      "  (2, 8428)\t1\n",
      "  :\t:\n",
      "  (6917, 4225)\t1\n",
      "  (6917, 6178)\t1\n",
      "  (6917, 1820)\t1\n",
      "  (6917, 3972)\t1\n",
      "  (6917, 9068)\t1\n",
      "  (6917, 8935)\t1\n",
      "  (6917, 4481)\t1\n",
      "  (6918, 3194)\t1\n",
      "  (6918, 643)\t1\n",
      "  (6918, 7681)\t1\n",
      "  (6918, 2281)\t1\n",
      "  (6918, 9928)\t1\n",
      "  (6918, 5016)\t1\n",
      "  (6918, 5166)\t1\n",
      "  (6918, 9930)\t1\n",
      "  (6918, 650)\t1\n",
      "  (6918, 7833)\t2\n",
      "  (6918, 4849)\t1\n",
      "  (6919, 1566)\t1\n",
      "  (6919, 444)\t1\n",
      "  (6919, 1426)\t1\n",
      "  (6919, 2102)\t1\n",
      "  (6919, 1599)\t1\n",
      "  (6919, 6082)\t1\n",
      "  (6919, 7706)\t1\n"
     ]
    }
   ],
   "source": [
    "from sklearn.feature_extraction.text import CountVectorizer\n",
    "# Bag of Words (BoW)\n",
    "vectorizer = CountVectorizer(max_features=10000, ngram_range=(1,2))\n",
    "# TF-IDF (Advanced Variant of BoW)\n",
    "X_bow = vectorizer.fit_transform(df)\n",
    "print(X_bow)"
   ]
  },
  {
   "cell_type": "markdown",
   "id": "34ba2ee8",
   "metadata": {},
   "source": [
    "# TF*IDF"
   ]
  },
  {
   "cell_type": "code",
   "execution_count": 5,
   "id": "8e63dbbc",
   "metadata": {},
   "outputs": [
    {
     "name": "stdout",
     "output_type": "stream",
     "text": [
      "  (0, 4198)\t0.3739873028995298\n",
      "  (0, 742)\t0.36168251176103683\n",
      "  (0, 3313)\t0.22111024766658646\n",
      "  (0, 4196)\t0.2653898400016651\n",
      "  (0, 726)\t0.3377465211389492\n",
      "  (0, 741)\t0.2907564718841119\n",
      "  (0, 7100)\t0.22315715431006108\n",
      "  (0, 9128)\t0.3739873028995298\n",
      "  (0, 3323)\t0.28504504230953437\n",
      "  (0, 3591)\t0.19769132133306638\n",
      "  (0, 8444)\t0.31841412931499774\n",
      "  (1, 2019)\t0.3532158125064839\n",
      "  (1, 7479)\t0.3532158125064839\n",
      "  (1, 1949)\t0.3532158125064839\n",
      "  (1, 8146)\t0.2675643916435112\n",
      "  (1, 2018)\t0.33258019823412566\n",
      "  (1, 3706)\t0.2692134610980501\n",
      "  (1, 3425)\t0.3252150287036727\n",
      "  (1, 7478)\t0.27657863062850313\n",
      "  (1, 1948)\t0.3135936534163063\n",
      "  (1, 449)\t0.3007292079906677\n",
      "  (2, 1062)\t0.25647431286514016\n",
      "  (2, 7649)\t0.22424931351169652\n",
      "  (2, 8034)\t0.25647431286514016\n",
      "  (2, 1490)\t0.23614260196423162\n",
      "  :\t:\n",
      "  (6917, 9635)\t0.16783351379079345\n",
      "  (6917, 3795)\t0.29925545064847825\n",
      "  (6917, 8933)\t0.20004556745485566\n",
      "  (6917, 869)\t0.2330130664738384\n",
      "  (6917, 4050)\t0.2373519171392366\n",
      "  (6917, 643)\t0.1726826643402271\n",
      "  (6917, 3770)\t0.15601848890233927\n",
      "  (6918, 4849)\t0.35639501196627565\n",
      "  (6918, 7833)\t0.5815880315674233\n",
      "  (6918, 650)\t0.31641622459866797\n",
      "  (6918, 9930)\t0.2551097431234211\n",
      "  (6918, 5166)\t0.31161536560760605\n",
      "  (6918, 5016)\t0.26120468511131406\n",
      "  (6918, 9928)\t0.234973454646718\n",
      "  (6918, 2281)\t0.18666640278731367\n",
      "  (6918, 7681)\t0.24424190797106593\n",
      "  (6918, 643)\t0.19888816492927727\n",
      "  (6918, 3194)\t0.12222210550469927\n",
      "  (6919, 7706)\t0.44910232390561455\n",
      "  (6919, 6082)\t0.4275679263071925\n",
      "  (6919, 1599)\t0.32549976863807467\n",
      "  (6919, 2102)\t0.43725108970707977\n",
      "  (6919, 1426)\t0.35620169102916915\n",
      "  (6919, 444)\t0.36922023286181604\n",
      "  (6919, 1566)\t0.23484235388000488\n"
     ]
    }
   ],
   "source": [
    "from sklearn.feature_extraction.text import TfidfVectorizer\n",
    "# TF-IDF (Advanced Variant of BoW)\n",
    "vectorizer = TfidfVectorizer(max_features=10000, ngram_range=(1,2))  \n",
    "X_tfidf = vectorizer.fit_transform(df)\n",
    "print(X_tfidf)"
   ]
  },
  {
   "cell_type": "markdown",
   "id": "7c6fd7c8",
   "metadata": {},
   "source": [
    "# Word2Vec"
   ]
  },
  {
   "cell_type": "code",
   "execution_count": 6,
   "id": "ecc78900",
   "metadata": {},
   "outputs": [],
   "source": [
    "import gensim\n",
    "VECTOR_SIZE = 100\n",
    "\n",
    "## create list of lists of unigrams\n",
    "lst_corpus = [sentence.split() for sentence in df]\n",
    "\n",
    "## fit w2v (sg: 1 for skip-gram; otherwise CBOW.)\n",
    "model = gensim.models.word2vec.Word2Vec(lst_corpus, vector_size=VECTOR_SIZE, window=8, min_count=1, sg=1, seed=0)"
   ]
  },
  {
   "cell_type": "code",
   "execution_count": 7,
   "id": "6b80674e",
   "metadata": {
    "scrolled": true
   },
   "outputs": [
    {
     "data": {
      "text/plain": [
       "array([ 0.02586458, -0.29192907, -0.07210118, -0.11194023,  0.31305358,\n",
       "        0.06732993, -0.07566354, -0.2980053 ,  0.12715743,  0.112382  ,\n",
       "        0.31278294,  0.2199297 ,  0.2016833 ,  0.35361734,  0.14256376,\n",
       "       -0.18416218,  0.06981486, -0.13474175, -0.22682424,  0.11490394,\n",
       "       -0.00442855,  0.20733055, -0.00165407, -0.15122357,  0.28087065,\n",
       "        0.05662809,  0.06297065,  0.05603285, -0.12615006,  0.02428699,\n",
       "       -0.00246318,  0.10985161,  0.329809  , -0.03493271, -0.28489682,\n",
       "        0.00523466,  0.28881174, -0.05304515,  0.04194215,  0.23493198,\n",
       "       -0.11176803, -0.32619745, -0.22386515, -0.03856778, -0.1076696 ,\n",
       "       -0.34941316, -0.27522933, -0.20385996, -0.11895534,  0.0596831 ,\n",
       "       -0.12157824,  0.02582511, -0.05987333,  0.47122777,  0.02611311,\n",
       "       -0.27798212,  0.00471418,  0.05203452, -0.03038506,  0.08884189,\n",
       "        0.06443454,  0.3796268 ,  0.1458289 , -0.15145631,  0.3785462 ,\n",
       "       -0.02909073, -0.16436514,  0.06646606,  0.11534645,  0.0394511 ,\n",
       "       -0.18566372,  0.00626092, -0.14843312, -0.10188534,  0.3116742 ,\n",
       "        0.37848285,  0.0903052 , -0.28429484,  0.06821989,  0.24360463,\n",
       "        0.2229525 , -0.16655831, -0.20602156, -0.44964984, -0.06039302,\n",
       "       -0.14311089,  0.19024438,  0.28324157, -0.1851259 ,  0.29578644,\n",
       "       -0.04489586,  0.20010486,  0.23722905, -0.22084793,  0.11032621,\n",
       "        0.32576686,  0.06419086, -0.0025715 , -0.36597425,  0.19614868],\n",
       "      dtype=float32)"
      ]
     },
     "execution_count": 7,
     "metadata": {},
     "output_type": "execute_result"
    }
   ],
   "source": [
    "model.wv['funny']"
   ]
  },
  {
   "cell_type": "code",
   "execution_count": 8,
   "id": "6ff43e62",
   "metadata": {},
   "outputs": [
    {
     "data": {
      "text/plain": [
       "[('original', 0.9934704899787903),\n",
       " ('certainly', 0.993450939655304),\n",
       " ('fun', 0.9932791590690613),\n",
       " ('interesting', 0.9930195808410645),\n",
       " ('anything', 0.9928457736968994),\n",
       " ('understand', 0.9927155375480652),\n",
       " ('audience', 0.9921032190322876),\n",
       " ('worth', 0.9917160272598267),\n",
       " ('anyone', 0.991519570350647),\n",
       " ('done', 0.9911305904388428)]"
      ]
     },
     "execution_count": 8,
     "metadata": {},
     "output_type": "execute_result"
    }
   ],
   "source": [
    "model.wv.most_similar('funny', topn=10)"
   ]
  }
 ],
 "metadata": {
  "kernelspec": {
   "display_name": "Python 3 (ipykernel)",
   "language": "python",
   "name": "python3"
  },
  "language_info": {
   "codemirror_mode": {
    "name": "ipython",
    "version": 3
   },
   "file_extension": ".py",
   "mimetype": "text/x-python",
   "name": "python",
   "nbconvert_exporter": "python",
   "pygments_lexer": "ipython3",
   "version": "3.9.12"
  }
 },
 "nbformat": 4,
 "nbformat_minor": 5
}
