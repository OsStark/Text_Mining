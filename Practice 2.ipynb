{
 "cells": [
  {
   "cell_type": "code",
   "execution_count": 1,
   "id": "c29cd6f6",
   "metadata": {},
   "outputs": [
    {
     "data": {
      "text/html": [
       "<div>\n",
       "<style scoped>\n",
       "    .dataframe tbody tr th:only-of-type {\n",
       "        vertical-align: middle;\n",
       "    }\n",
       "\n",
       "    .dataframe tbody tr th {\n",
       "        vertical-align: top;\n",
       "    }\n",
       "\n",
       "    .dataframe thead th {\n",
       "        text-align: right;\n",
       "    }\n",
       "</style>\n",
       "<table border=\"1\" class=\"dataframe\">\n",
       "  <thead>\n",
       "    <tr style=\"text-align: right;\">\n",
       "      <th></th>\n",
       "      <th>sentence</th>\n",
       "      <th>label</th>\n",
       "      <th>source</th>\n",
       "    </tr>\n",
       "  </thead>\n",
       "  <tbody>\n",
       "    <tr>\n",
       "      <th>0</th>\n",
       "      <td>Wow... Loved this place.</td>\n",
       "      <td>1</td>\n",
       "      <td>yelp</td>\n",
       "    </tr>\n",
       "    <tr>\n",
       "      <th>1</th>\n",
       "      <td>Crust is not good.</td>\n",
       "      <td>0</td>\n",
       "      <td>yelp</td>\n",
       "    </tr>\n",
       "    <tr>\n",
       "      <th>2</th>\n",
       "      <td>Not tasty and the texture was just nasty.</td>\n",
       "      <td>0</td>\n",
       "      <td>yelp</td>\n",
       "    </tr>\n",
       "    <tr>\n",
       "      <th>3</th>\n",
       "      <td>Stopped by during the late May bank holiday of...</td>\n",
       "      <td>1</td>\n",
       "      <td>yelp</td>\n",
       "    </tr>\n",
       "    <tr>\n",
       "      <th>4</th>\n",
       "      <td>The selection on the menu was great and so wer...</td>\n",
       "      <td>1</td>\n",
       "      <td>yelp</td>\n",
       "    </tr>\n",
       "    <tr>\n",
       "      <th>...</th>\n",
       "      <td>...</td>\n",
       "      <td>...</td>\n",
       "      <td>...</td>\n",
       "    </tr>\n",
       "    <tr>\n",
       "      <th>995</th>\n",
       "      <td>I think food should have flavor and texture an...</td>\n",
       "      <td>0</td>\n",
       "      <td>yelp</td>\n",
       "    </tr>\n",
       "    <tr>\n",
       "      <th>996</th>\n",
       "      <td>Appetite instantly gone.</td>\n",
       "      <td>0</td>\n",
       "      <td>yelp</td>\n",
       "    </tr>\n",
       "    <tr>\n",
       "      <th>997</th>\n",
       "      <td>Overall I was not impressed and would not go b...</td>\n",
       "      <td>0</td>\n",
       "      <td>yelp</td>\n",
       "    </tr>\n",
       "    <tr>\n",
       "      <th>998</th>\n",
       "      <td>The whole experience was underwhelming, and I ...</td>\n",
       "      <td>0</td>\n",
       "      <td>yelp</td>\n",
       "    </tr>\n",
       "    <tr>\n",
       "      <th>999</th>\n",
       "      <td>Then, as if I hadn't wasted enough of my life ...</td>\n",
       "      <td>0</td>\n",
       "      <td>yelp</td>\n",
       "    </tr>\n",
       "  </tbody>\n",
       "</table>\n",
       "<p>1000 rows × 3 columns</p>\n",
       "</div>"
      ],
      "text/plain": [
       "                                              sentence  label source\n",
       "0                             Wow... Loved this place.      1   yelp\n",
       "1                                   Crust is not good.      0   yelp\n",
       "2            Not tasty and the texture was just nasty.      0   yelp\n",
       "3    Stopped by during the late May bank holiday of...      1   yelp\n",
       "4    The selection on the menu was great and so wer...      1   yelp\n",
       "..                                                 ...    ...    ...\n",
       "995  I think food should have flavor and texture an...      0   yelp\n",
       "996                           Appetite instantly gone.      0   yelp\n",
       "997  Overall I was not impressed and would not go b...      0   yelp\n",
       "998  The whole experience was underwhelming, and I ...      0   yelp\n",
       "999  Then, as if I hadn't wasted enough of my life ...      0   yelp\n",
       "\n",
       "[1000 rows x 3 columns]"
      ]
     },
     "execution_count": 1,
     "metadata": {},
     "output_type": "execute_result"
    }
   ],
   "source": [
    "import pandas as pd\n",
    "\n",
    "filepath_dict = {'yelp':'sentiment labelled sentences/yelp_labelled.txt',\n",
    "                 'amazon':'sentiment labelled sentences/amazon_cells_labelled.txt',\n",
    "                 'imdb':'sentiment labelled sentences/imdb_labelled.txt'}\n",
    "\n",
    "df_list = []\n",
    "for source, filepath in filepath_dict.items():\n",
    "    df = pd.read_csv(filepath, names=['sentence', 'label'], sep='\\t')\n",
    "    df['source'] = source\n",
    "    df_list.append(df)\n",
    "    \n",
    "df = pd.concat(df_list)\n",
    "df = df[df['source'] == 'yelp']\n",
    "df"
   ]
  },
  {
   "cell_type": "code",
   "execution_count": 2,
   "id": "363ff5d8",
   "metadata": {},
   "outputs": [],
   "source": [
    "from sklearn.model_selection import train_test_split\n",
    "from sklearn.feature_extraction.text import CountVectorizer\n",
    "\n",
    "from sklearn.linear_model import LogisticRegression\n",
    "\n",
    "from sklearn.naive_bayes import GaussianNB\n",
    "\n",
    "from sklearn.pipeline import make_pipeline\n",
    "from sklearn.preprocessing import StandardScaler\n",
    "from sklearn.svm import SVC\n",
    "\n",
    "SVC_clf = make_pipeline(StandardScaler(), SVC(gamma='auto'))\n",
    "\n",
    "def train(classifier):\n",
    "    df_yelp = df[df['source'] == 'yelp']\n",
    "    sentences = df_yelp['sentence'].values\n",
    "    y = df_yelp['label'].values\n",
    "    sentences_train, sentences_test, y_train, y_test = train_test_split(\n",
    "        sentences, y, test_size=0.25, random_state=1000)\n",
    "\n",
    "    vectorizer = CountVectorizer()\n",
    "    vectorizer.fit(sentences_train)\n",
    "\n",
    "    X_train = vectorizer.transform(sentences_train)\n",
    "    X_test = vectorizer.transform(sentences_test)\n",
    "\n",
    "    classifier.fit(X_train.toarray(), y_train)\n",
    "    score = classifier.score(X_test.toarray(), y_test)\n",
    "    print(\"accuracy: \", score)\n",
    "    return score"
   ]
  },
  {
   "cell_type": "code",
   "execution_count": 3,
   "id": "a20edca1",
   "metadata": {},
   "outputs": [
    {
     "name": "stdout",
     "output_type": "stream",
     "text": [
      "accuracy:  0.672\n",
      "accuracy:  0.664\n",
      "accuracy:  0.796\n"
     ]
    }
   ],
   "source": [
    "SVM_score = train(SVC_clf)\n",
    "NB_score = train(GaussianNB())\n",
    "LR_score = train(LogisticRegression())"
   ]
  },
  {
   "cell_type": "code",
   "execution_count": 4,
   "id": "e78a7129",
   "metadata": {},
   "outputs": [],
   "source": [
    "import pathlib as pl\n",
    "import multiprocessing\n",
    "import numpy as np\n",
    "import sklearn.metrics as metrics\n",
    "\n",
    "from sklearn.pipeline import Pipeline\n",
    "from sklearn.decomposition import PCA\n",
    "from gensim.models.doc2vec import TaggedDocument, Doc2Vec\n",
    "from sklearn.base import BaseEstimator, TransformerMixin\n",
    "from gensim.parsing.preprocessing import preprocess_string\n",
    "from sklearn import utils\n",
    "from tqdm import tqdm\n",
    "from sklearn.model_selection import GridSearchCV"
   ]
  },
  {
   "cell_type": "code",
   "execution_count": 5,
   "id": "5f4d0253",
   "metadata": {},
   "outputs": [],
   "source": [
    "class Doc2VecTransformer(BaseEstimator):\n",
    "    def __init__(self, vector_size=100, learning_rate=0.02, epochs=20):\n",
    "        self.learning_rate = learning_rate\n",
    "        self.epochs = epochs\n",
    "        self._model = None\n",
    "        self.vector_size = vector_size\n",
    "        self.workers = multiprocessing.cpu_count()\n",
    "        \n",
    "    def fit(self, df_x, df_y=None):\n",
    "        tagged_x = [TaggedDocument(preprocess_string(row['sentence']), [index]) for index, row in df_x.iterrows()]\n",
    "        model = Doc2Vec(documents=tagged_x, vector_size=self.vector_size, workers=self.workers)\n",
    "        \n",
    "        for epoch in range(self.epochs):\n",
    "            model.train(utils.shuffle([x for x in tqdm(tagged_x)]), total_examples=len(tagged_x), epochs=1)\n",
    "            model.alpha -= self.learning_rate\n",
    "            model.min_alpha = model.alpha\n",
    "        \n",
    "        self._model = model\n",
    "        return self\n",
    "    \n",
    "    def transform(self, df_x):\n",
    "        return np.asmatrix(np.array([self._model.infer_vector(preprocess_string(row['sentence']))\n",
    "                                    for index, row in df_x.iterrows()]))\n",
    "        "
   ]
  },
  {
   "cell_type": "code",
   "execution_count": 6,
   "id": "4bab0e95",
   "metadata": {},
   "outputs": [],
   "source": [
    "def train_and_build_model(classifier):\n",
    "    all_df = df\n",
    "    train_x_df, test_x_df, train_y_df, test_y_df = train_test_split(all_df[['sentence']],\n",
    "                                                                    all_df[['label']])\n",
    "    \n",
    "    pl = Pipeline(steps=[('doc2vec', Doc2VecTransformer()),\n",
    "                         ('pca', PCA()),\n",
    "                         ('classifier', classifier)\n",
    "                         ])\n",
    "    pl.fit(train_x_df[['sentence']], train_y_df[['label']])\n",
    "    predictions_y = pl.predict(test_x_df[['sentence']])\n",
    "    print('Accuracy: ', metrics.accuracy_score(y_true=test_y_df[['label']], y_pred=predictions_y))\n",
    "    return metrics.accuracy_score(y_true=test_y_df[['label']], y_pred=predictions_y)\n"
   ]
  },
  {
   "cell_type": "code",
   "execution_count": 7,
   "id": "547bbd12",
   "metadata": {},
   "outputs": [
    {
     "name": "stderr",
     "output_type": "stream",
     "text": [
      "100%|██████████| 750/750 [00:00<00:00, 752386.51it/s]\n",
      "100%|██████████| 750/750 [00:00<?, ?it/s]\n",
      "100%|██████████| 750/750 [00:00<?, ?it/s]\n",
      "100%|██████████| 750/750 [00:00<?, ?it/s]\n",
      "100%|██████████| 750/750 [00:00<?, ?it/s]\n",
      "100%|██████████| 750/750 [00:00<?, ?it/s]\n",
      "100%|██████████| 750/750 [00:00<?, ?it/s]\n",
      "100%|██████████| 750/750 [00:00<?, ?it/s]\n",
      "100%|██████████| 750/750 [00:00<?, ?it/s]\n",
      "100%|██████████| 750/750 [00:00<?, ?it/s]\n",
      "100%|██████████| 750/750 [00:00<00:00, 754914.33it/s]\n",
      "100%|██████████| 750/750 [00:00<?, ?it/s]\n",
      "100%|██████████| 750/750 [00:00<?, ?it/s]\n",
      "100%|██████████| 750/750 [00:00<?, ?it/s]\n",
      "100%|██████████| 750/750 [00:00<?, ?it/s]\n",
      "100%|██████████| 750/750 [00:00<?, ?it/s]\n",
      "100%|██████████| 750/750 [00:00<00:00, 752206.60it/s]\n",
      "100%|██████████| 750/750 [00:00<?, ?it/s]\n",
      "100%|██████████| 750/750 [00:00<?, ?it/s]\n",
      "100%|██████████| 750/750 [00:00<?, ?it/s]\n",
      "C:\\ProgramData\\Anaconda3\\lib\\site-packages\\sklearn\\utils\\validation.py:593: FutureWarning: np.matrix usage is deprecated in 1.0 and will raise a TypeError in 1.2. Please convert to a numpy array with np.asarray. For more information see: https://numpy.org/doc/stable/reference/generated/numpy.matrix.html\n",
      "  warnings.warn(\n",
      "C:\\ProgramData\\Anaconda3\\lib\\site-packages\\sklearn\\utils\\validation.py:993: DataConversionWarning: A column-vector y was passed when a 1d array was expected. Please change the shape of y to (n_samples, ), for example using ravel().\n",
      "  y = column_or_1d(y, warn=True)\n",
      "C:\\ProgramData\\Anaconda3\\lib\\site-packages\\sklearn\\utils\\validation.py:593: FutureWarning: np.matrix usage is deprecated in 1.0 and will raise a TypeError in 1.2. Please convert to a numpy array with np.asarray. For more information see: https://numpy.org/doc/stable/reference/generated/numpy.matrix.html\n",
      "  warnings.warn(\n"
     ]
    },
    {
     "name": "stdout",
     "output_type": "stream",
     "text": [
      "Accuracy:  0.532\n"
     ]
    },
    {
     "name": "stderr",
     "output_type": "stream",
     "text": [
      "100%|██████████| 750/750 [00:00<?, ?it/s]\n",
      "100%|██████████| 750/750 [00:00<?, ?it/s]\n",
      "100%|██████████| 750/750 [00:00<00:00, 1499393.71it/s]\n",
      "100%|██████████| 750/750 [00:00<?, ?it/s]\n",
      "100%|██████████| 750/750 [00:00<00:00, 749696.85it/s]\n",
      "100%|██████████| 750/750 [00:00<?, ?it/s]\n",
      "100%|██████████| 750/750 [00:00<?, ?it/s]\n",
      "100%|██████████| 750/750 [00:00<?, ?it/s]\n",
      "100%|██████████| 750/750 [00:00<?, ?it/s]\n",
      "100%|██████████| 750/750 [00:00<?, ?it/s]\n",
      "100%|██████████| 750/750 [00:00<?, ?it/s]\n",
      "100%|██████████| 750/750 [00:00<?, ?it/s]\n",
      "100%|██████████| 750/750 [00:00<?, ?it/s]\n",
      "100%|██████████| 750/750 [00:00<?, ?it/s]\n",
      "100%|██████████| 750/750 [00:00<00:00, 753287.36it/s]\n",
      "100%|██████████| 750/750 [00:00<?, ?it/s]\n",
      "100%|██████████| 750/750 [00:00<?, ?it/s]\n",
      "100%|██████████| 750/750 [00:00<?, ?it/s]\n",
      "100%|██████████| 750/750 [00:00<?, ?it/s]\n",
      "100%|██████████| 750/750 [00:00<?, ?it/s]\n",
      "C:\\ProgramData\\Anaconda3\\lib\\site-packages\\sklearn\\utils\\validation.py:593: FutureWarning: np.matrix usage is deprecated in 1.0 and will raise a TypeError in 1.2. Please convert to a numpy array with np.asarray. For more information see: https://numpy.org/doc/stable/reference/generated/numpy.matrix.html\n",
      "  warnings.warn(\n",
      "C:\\ProgramData\\Anaconda3\\lib\\site-packages\\sklearn\\utils\\validation.py:993: DataConversionWarning: A column-vector y was passed when a 1d array was expected. Please change the shape of y to (n_samples, ), for example using ravel().\n",
      "  y = column_or_1d(y, warn=True)\n",
      "C:\\ProgramData\\Anaconda3\\lib\\site-packages\\sklearn\\utils\\validation.py:593: FutureWarning: np.matrix usage is deprecated in 1.0 and will raise a TypeError in 1.2. Please convert to a numpy array with np.asarray. For more information see: https://numpy.org/doc/stable/reference/generated/numpy.matrix.html\n",
      "  warnings.warn(\n"
     ]
    },
    {
     "name": "stdout",
     "output_type": "stream",
     "text": [
      "Accuracy:  0.48\n"
     ]
    },
    {
     "name": "stderr",
     "output_type": "stream",
     "text": [
      "100%|██████████| 750/750 [00:00<?, ?it/s]\n",
      "100%|██████████| 750/750 [00:00<?, ?it/s]\n",
      "100%|██████████| 750/750 [00:00<?, ?it/s]\n",
      "100%|██████████| 750/750 [00:00<?, ?it/s]\n",
      "100%|██████████| 750/750 [00:00<?, ?it/s]\n",
      "100%|██████████| 750/750 [00:00<?, ?it/s]\n",
      "100%|██████████| 750/750 [00:00<?, ?it/s]\n",
      "100%|██████████| 750/750 [00:00<?, ?it/s]\n",
      "100%|██████████| 750/750 [00:00<?, ?it/s]\n",
      "100%|██████████| 750/750 [00:00<?, ?it/s]\n",
      "100%|██████████| 750/750 [00:00<?, ?it/s]\n",
      "100%|██████████| 750/750 [00:00<?, ?it/s]\n",
      "100%|██████████| 750/750 [00:00<?, ?it/s]\n",
      "100%|██████████| 750/750 [00:00<00:00, 750591.27it/s]\n",
      "100%|██████████| 750/750 [00:00<?, ?it/s]\n",
      "100%|██████████| 750/750 [00:00<?, ?it/s]\n",
      "100%|██████████| 750/750 [00:00<?, ?it/s]\n",
      "100%|██████████| 750/750 [00:00<?, ?it/s]\n",
      "100%|██████████| 750/750 [00:00<?, ?it/s]\n",
      "100%|██████████| 750/750 [00:00<?, ?it/s]\n",
      "C:\\ProgramData\\Anaconda3\\lib\\site-packages\\sklearn\\utils\\validation.py:593: FutureWarning: np.matrix usage is deprecated in 1.0 and will raise a TypeError in 1.2. Please convert to a numpy array with np.asarray. For more information see: https://numpy.org/doc/stable/reference/generated/numpy.matrix.html\n",
      "  warnings.warn(\n",
      "C:\\ProgramData\\Anaconda3\\lib\\site-packages\\sklearn\\utils\\validation.py:993: DataConversionWarning: A column-vector y was passed when a 1d array was expected. Please change the shape of y to (n_samples, ), for example using ravel().\n",
      "  y = column_or_1d(y, warn=True)\n"
     ]
    },
    {
     "name": "stdout",
     "output_type": "stream",
     "text": [
      "Accuracy:  0.492\n"
     ]
    },
    {
     "name": "stderr",
     "output_type": "stream",
     "text": [
      "C:\\ProgramData\\Anaconda3\\lib\\site-packages\\sklearn\\utils\\validation.py:593: FutureWarning: np.matrix usage is deprecated in 1.0 and will raise a TypeError in 1.2. Please convert to a numpy array with np.asarray. For more information see: https://numpy.org/doc/stable/reference/generated/numpy.matrix.html\n",
      "  warnings.warn(\n"
     ]
    }
   ],
   "source": [
    "SVM_score_with_PCA = train_and_build_model(SVC_clf)\n",
    "NB_score_with_PCA = train_and_build_model(GaussianNB())\n",
    "LR_score_with_PCA = train_and_build_model(LogisticRegression())"
   ]
  },
  {
   "cell_type": "code",
   "execution_count": 8,
   "id": "43b76b41",
   "metadata": {},
   "outputs": [],
   "source": [
    "def train_short_range_grid_search(classifier):\n",
    "    all_df = df\n",
    "    train_x_df, test_x_df, train_y_df, test_y_df = train_test_split(all_df[['sentence']],\n",
    "                                                                    all_df[['label']])\n",
    "    \n",
    "    pl = Pipeline(steps=[('doc2vec', Doc2VecTransformer()),\n",
    "                         ('pca', PCA()),\n",
    "                         ('classifier', classifier)\n",
    "                         ])\n",
    "    param_grid = {\n",
    "        'doc2vec__vector_size': [200, 220, 250],\n",
    "        'pca__n_components': [50, 75, 100]\n",
    "    }\n",
    "    gs_cv = GridSearchCV(estimator=pl, param_grid=param_grid, cv=3, n_jobs=-1,\n",
    "                         scoring='accuracy')\n",
    "    gs_cv.fit(train_x_df[['sentence']], train_y_df[['label']])\n",
    "    \n",
    "    print('Best parameter (CV score=%0.3f):' % gs_cv.best_score_)\n",
    "    print(gs_cv.best_params_)\n",
    "    predictions_y = gs_cv.predict(test_x_df[['sentence']])\n",
    "    print('Accuracy: ', metrics.accuracy_score(y_true=test_y_df[['label']], y_pred=predictions_y))\n",
    "    return metrics.accuracy_score(y_true=test_y_df[['label']], y_pred=predictions_y)\n"
   ]
  },
  {
   "cell_type": "code",
   "execution_count": 9,
   "id": "5f55af52",
   "metadata": {},
   "outputs": [
    {
     "name": "stderr",
     "output_type": "stream",
     "text": [
      "100%|██████████| 750/750 [00:00<?, ?it/s]\n",
      "100%|██████████| 750/750 [00:00<?, ?it/s]\n",
      "100%|██████████| 750/750 [00:00<?, ?it/s]\n",
      "100%|██████████| 750/750 [00:00<00:00, 748092.27it/s]\n",
      "100%|██████████| 750/750 [00:00<?, ?it/s]\n",
      "100%|██████████| 750/750 [00:00<?, ?it/s]\n",
      "100%|██████████| 750/750 [00:00<?, ?it/s]\n",
      "100%|██████████| 750/750 [00:00<00:00, 755639.68it/s]\n",
      "100%|██████████| 750/750 [00:00<00:00, 218362.35it/s]\n",
      "100%|██████████| 750/750 [00:00<?, ?it/s]\n",
      "100%|██████████| 750/750 [00:00<00:00, 749696.85it/s]\n",
      "100%|██████████| 750/750 [00:00<?, ?it/s]\n",
      "100%|██████████| 750/750 [00:00<?, ?it/s]\n",
      "100%|██████████| 750/750 [00:00<?, ?it/s]\n",
      "100%|██████████| 750/750 [00:00<00:00, 755095.54it/s]\n",
      "100%|██████████| 750/750 [00:00<00:00, 752746.59it/s]\n",
      "100%|██████████| 750/750 [00:00<00:00, 749875.57it/s]\n",
      "100%|██████████| 750/750 [00:00<?, ?it/s]\n",
      "100%|██████████| 750/750 [00:00<00:00, 754914.33it/s]\n",
      "100%|██████████| 750/750 [00:00<?, ?it/s]\n",
      "C:\\ProgramData\\Anaconda3\\lib\\site-packages\\sklearn\\utils\\validation.py:593: FutureWarning: np.matrix usage is deprecated in 1.0 and will raise a TypeError in 1.2. Please convert to a numpy array with np.asarray. For more information see: https://numpy.org/doc/stable/reference/generated/numpy.matrix.html\n",
      "  warnings.warn(\n",
      "C:\\ProgramData\\Anaconda3\\lib\\site-packages\\sklearn\\utils\\validation.py:993: DataConversionWarning: A column-vector y was passed when a 1d array was expected. Please change the shape of y to (n_samples, ), for example using ravel().\n",
      "  y = column_or_1d(y, warn=True)\n",
      "C:\\ProgramData\\Anaconda3\\lib\\site-packages\\sklearn\\utils\\validation.py:593: FutureWarning: np.matrix usage is deprecated in 1.0 and will raise a TypeError in 1.2. Please convert to a numpy array with np.asarray. For more information see: https://numpy.org/doc/stable/reference/generated/numpy.matrix.html\n",
      "  warnings.warn(\n"
     ]
    },
    {
     "name": "stdout",
     "output_type": "stream",
     "text": [
      "Best parameter (CV score=0.531):\n",
      "{'doc2vec__vector_size': 250, 'pca__n_components': 75}\n",
      "Accuracy:  0.52\n"
     ]
    },
    {
     "name": "stderr",
     "output_type": "stream",
     "text": [
      "100%|██████████| 750/750 [00:00<?, ?it/s]\n",
      "100%|██████████| 750/750 [00:00<?, ?it/s]\n",
      "100%|██████████| 750/750 [00:00<?, ?it/s]\n",
      "100%|██████████| 750/750 [00:00<00:00, 754914.33it/s]\n",
      "100%|██████████| 750/750 [00:00<00:00, 752566.51it/s]\n",
      "100%|██████████| 750/750 [00:00<00:00, 752206.60it/s]\n",
      "100%|██████████| 750/750 [00:00<?, ?it/s]\n",
      "100%|██████████| 750/750 [00:00<?, ?it/s]\n",
      "100%|██████████| 750/750 [00:00<00:00, 4017532.57it/s]\n",
      "100%|██████████| 750/750 [00:00<00:00, 752566.51it/s]\n",
      "100%|██████████| 750/750 [00:00<?, ?it/s]\n",
      "100%|██████████| 750/750 [00:00<?, ?it/s]\n",
      "100%|██████████| 750/750 [00:00<?, ?it/s]\n",
      "100%|██████████| 750/750 [00:00<?, ?it/s]\n",
      "100%|██████████| 750/750 [00:00<?, ?it/s]\n",
      "100%|██████████| 750/750 [00:00<00:00, 751308.34it/s]\n",
      "100%|██████████| 750/750 [00:00<?, ?it/s]\n",
      "100%|██████████| 750/750 [00:00<?, ?it/s]\n",
      "100%|██████████| 750/750 [00:00<00:00, 750412.21it/s]\n",
      "100%|██████████| 750/750 [00:00<?, ?it/s]\n",
      "C:\\ProgramData\\Anaconda3\\lib\\site-packages\\sklearn\\utils\\validation.py:593: FutureWarning: np.matrix usage is deprecated in 1.0 and will raise a TypeError in 1.2. Please convert to a numpy array with np.asarray. For more information see: https://numpy.org/doc/stable/reference/generated/numpy.matrix.html\n",
      "  warnings.warn(\n",
      "C:\\ProgramData\\Anaconda3\\lib\\site-packages\\sklearn\\utils\\validation.py:993: DataConversionWarning: A column-vector y was passed when a 1d array was expected. Please change the shape of y to (n_samples, ), for example using ravel().\n",
      "  y = column_or_1d(y, warn=True)\n",
      "C:\\ProgramData\\Anaconda3\\lib\\site-packages\\sklearn\\utils\\validation.py:593: FutureWarning: np.matrix usage is deprecated in 1.0 and will raise a TypeError in 1.2. Please convert to a numpy array with np.asarray. For more information see: https://numpy.org/doc/stable/reference/generated/numpy.matrix.html\n",
      "  warnings.warn(\n"
     ]
    },
    {
     "name": "stdout",
     "output_type": "stream",
     "text": [
      "Best parameter (CV score=0.556):\n",
      "{'doc2vec__vector_size': 220, 'pca__n_components': 75}\n",
      "Accuracy:  0.536\n"
     ]
    },
    {
     "name": "stderr",
     "output_type": "stream",
     "text": [
      "100%|██████████| 750/750 [00:00<?, ?it/s]\n",
      "100%|██████████| 750/750 [00:00<?, ?it/s]\n",
      "100%|██████████| 750/750 [00:00<00:00, 749161.23it/s]\n",
      "100%|██████████| 750/750 [00:00<?, ?it/s]\n",
      "100%|██████████| 750/750 [00:00<?, ?it/s]\n",
      "100%|██████████| 750/750 [00:00<00:00, 5607358.29it/s]\n",
      "100%|██████████| 750/750 [00:00<00:00, 756002.88it/s]\n",
      "100%|██████████| 750/750 [00:00<?, ?it/s]\n",
      "100%|██████████| 750/750 [00:00<?, ?it/s]\n",
      "100%|██████████| 750/750 [00:00<00:00, 753107.01it/s]\n",
      "100%|██████████| 750/750 [00:00<?, ?it/s]\n",
      "100%|██████████| 750/750 [00:00<?, ?it/s]\n",
      "100%|██████████| 750/750 [00:00<?, ?it/s]\n",
      "100%|██████████| 750/750 [00:00<?, ?it/s]\n",
      "100%|██████████| 750/750 [00:00<?, ?it/s]\n",
      "100%|██████████| 750/750 [00:00<00:00, 751847.04it/s]\n",
      "100%|██████████| 750/750 [00:00<00:00, 752386.51it/s]\n",
      "100%|██████████| 750/750 [00:00<?, ?it/s]\n",
      "100%|██████████| 750/750 [00:00<?, ?it/s]\n",
      "100%|██████████| 750/750 [00:00<?, ?it/s]\n",
      "C:\\ProgramData\\Anaconda3\\lib\\site-packages\\sklearn\\utils\\validation.py:593: FutureWarning: np.matrix usage is deprecated in 1.0 and will raise a TypeError in 1.2. Please convert to a numpy array with np.asarray. For more information see: https://numpy.org/doc/stable/reference/generated/numpy.matrix.html\n",
      "  warnings.warn(\n"
     ]
    },
    {
     "name": "stdout",
     "output_type": "stream",
     "text": [
      "Best parameter (CV score=0.543):\n",
      "{'doc2vec__vector_size': 220, 'pca__n_components': 100}\n",
      "Accuracy:  0.508\n"
     ]
    },
    {
     "name": "stderr",
     "output_type": "stream",
     "text": [
      "C:\\ProgramData\\Anaconda3\\lib\\site-packages\\sklearn\\utils\\validation.py:993: DataConversionWarning: A column-vector y was passed when a 1d array was expected. Please change the shape of y to (n_samples, ), for example using ravel().\n",
      "  y = column_or_1d(y, warn=True)\n",
      "C:\\ProgramData\\Anaconda3\\lib\\site-packages\\sklearn\\utils\\validation.py:593: FutureWarning: np.matrix usage is deprecated in 1.0 and will raise a TypeError in 1.2. Please convert to a numpy array with np.asarray. For more information see: https://numpy.org/doc/stable/reference/generated/numpy.matrix.html\n",
      "  warnings.warn(\n"
     ]
    }
   ],
   "source": [
    "SVM_score_with_PCA_tuning = train_short_range_grid_search(SVC_clf)\n",
    "NB_score_with_PCA_tuning = train_short_range_grid_search(GaussianNB())\n",
    "LR_score_with_PCA_tuning = train_short_range_grid_search(LogisticRegression())"
   ]
  },
  {
   "cell_type": "code",
   "execution_count": 10,
   "id": "592c1976",
   "metadata": {},
   "outputs": [
    {
     "name": "stdout",
     "output_type": "stream",
     "text": [
      "SVM accuracy:  0.672\n",
      "SVM + PCA accuracy:  0.532\n",
      "SVM + PCA + tuning hyperparameters accuracy:  0.52\n",
      "\n",
      "Naive Bayes accuracy:  0.664\n",
      "Naive Bayes + PCA accuracy:  0.48\n",
      "Naive Bayes + PCA + tuning hyperparameters accuracy:  0.536\n",
      "\n",
      "Logistic Regression accuracy:  0.796\n",
      "Logistic Regression + PCA accuracy:  0.492\n",
      "Logistic Regression + PCA + tuning hyperparameters accuracy:  0.508\n"
     ]
    }
   ],
   "source": [
    "print('SVM accuracy: ',SVM_score)\n",
    "print('SVM + PCA accuracy: ',SVM_score_with_PCA)\n",
    "print('SVM + PCA + tuning hyperparameters accuracy: ',SVM_score_with_PCA_tuning)\n",
    "print('')\n",
    "print('Naive Bayes accuracy: ',NB_score)\n",
    "print('Naive Bayes + PCA accuracy: ',NB_score_with_PCA)\n",
    "print('Naive Bayes + PCA + tuning hyperparameters accuracy: ',NB_score_with_PCA_tuning)\n",
    "print('')\n",
    "print('Logistic Regression accuracy: ',LR_score)\n",
    "print('Logistic Regression + PCA accuracy: ',LR_score_with_PCA)\n",
    "print('Logistic Regression + PCA + tuning hyperparameters accuracy: ',LR_score_with_PCA_tuning)\n"
   ]
  },
  {
   "cell_type": "markdown",
   "id": "220869e3",
   "metadata": {},
   "source": [
    "# Conclusion\n",
    "I used the yelp dataset. The PCA made results worse. Tuning the hyperparameters using gridsearch made the accuracy of Naive Bayes and Logistic Regression better, but the accuracy of SVM worse."
   ]
  }
 ],
 "metadata": {
  "kernelspec": {
   "display_name": "Python 3 (ipykernel)",
   "language": "python",
   "name": "python3"
  },
  "language_info": {
   "codemirror_mode": {
    "name": "ipython",
    "version": 3
   },
   "file_extension": ".py",
   "mimetype": "text/x-python",
   "name": "python",
   "nbconvert_exporter": "python",
   "pygments_lexer": "ipython3",
   "version": "3.9.12"
  }
 },
 "nbformat": 4,
 "nbformat_minor": 5
}
